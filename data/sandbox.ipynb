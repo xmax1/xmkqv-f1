{
 "cells": [
  {
   "cell_type": "code",
   "execution_count": 42,
   "metadata": {},
   "outputs": [],
   "source": [
    "# import requests\n",
    "\n",
    "# url = \"https://f1-live-motorsport-data.p.rapidapi.com/session/2757\"\n",
    "\n",
    "# headers = {\n",
    "# \t\"X-RapidAPI-Key\": \"db76b0dd12msh4de05a8b50d9b9fp14b405jsn06de70f0c789\",\n",
    "# \t\"X-RapidAPI-Host\": \"f1-live-motorsport-data.p.rapidapi.com\"\n",
    "# }\n",
    "\n",
    "# response = requests.request(\"GET\", url, headers=headers)\n",
    "\n",
    "# print(response.text)\n",
    "\n",
    "import numpy as np\n",
    "from pathlib import Path\n",
    "import json\n",
    "\n",
    "JSON_INDENT = 4\n",
    "JSON_SEP = (',', ':')\n",
    "\n",
    "\n",
    "\n",
    "def is_array(x):\n",
    "    return ('shape' in dir(x))\n",
    "\n",
    "def load_json(path: str | Path) -> dict:\n",
    "    \"\"\" load a dict as json file at path converting all iterables to numpy arrays \"\"\"\n",
    "    with open(path, 'r') as f:\n",
    "        d = json.load(f, indent=JSON_INDENT, separators=JSON_SEP)\n",
    "    if isinstance(d, dict):\n",
    "        d = {k:np.array(v) if isinstance(v, list|tuple) else v for k,v in d.items()}\n",
    "    elif isinstance(d, list|tuple):\n",
    "        d = np.array(d)\n",
    "    return d\n",
    "\n",
    "def save_json(d: dict | str, path: Path):\n",
    "    \"\"\" save a dict as json file at path \"\"\"\n",
    "    if isinstance(d, dict):\n",
    "        for k, v in d.items():\n",
    "            if is_array(v):\n",
    "                d[k] = np.array(v).tolist()\n",
    "            if isinstance(v, Path):\n",
    "                d[k] = str(v)\n",
    "    with open(path, 'w') as f: # \n",
    "        json.dump(d, f, sort_keys = True, indent = 4,)\n",
    "\n",
    "import requests\n",
    "\n",
    "\n"
   ]
  },
  {
   "cell_type": "code",
   "execution_count": 22,
   "metadata": {},
   "outputs": [],
   "source": [
    "url = \"https://f1-live-motorsport-data.p.rapidapi.com/seasons\"\n",
    "\n",
    "headers = {\n",
    "\t\"X-RapidAPI-Key\": \"db76b0dd12msh4de05a8b50d9b9fp14b405jsn06de70f0c789\",\n",
    "\t\"X-RapidAPI-Host\": \"f1-live-motorsport-data.p.rapidapi.com\"\n",
    "}\n",
    "\n",
    "response = requests.request(\"GET\", url, headers=headers)"
   ]
  },
  {
   "cell_type": "code",
   "execution_count": 43,
   "metadata": {},
   "outputs": [],
   "source": [
    "def save_json(d: str, path: Path):\n",
    "    \"\"\" save a dict as json file at path \"\"\"\n",
    "    with open(path, 'w') as f: # \n",
    "        json.dump(d, f, sort_keys=True, indent=JSON_INDENT, separators=JSON_SEP)\n",
    "\n",
    "save_json(response.json(), './test_json.json')"
   ]
  },
  {
   "cell_type": "code",
   "execution_count": null,
   "metadata": {},
   "outputs": [],
   "source": []
  }
 ],
 "metadata": {
  "kernelspec": {
   "display_name": "Python 3.10.8 ('f1')",
   "language": "python",
   "name": "python3"
  },
  "language_info": {
   "codemirror_mode": {
    "name": "ipython",
    "version": 3
   },
   "file_extension": ".py",
   "mimetype": "text/x-python",
   "name": "python",
   "nbconvert_exporter": "python",
   "pygments_lexer": "ipython3",
   "version": "3.10.8"
  },
  "orig_nbformat": 4,
  "vscode": {
   "interpreter": {
    "hash": "246521200d02b8c069504aa53a31e9e9028c0d1f784b74e0bb04d83cce7f2d3c"
   }
  }
 },
 "nbformat": 4,
 "nbformat_minor": 2
}
